{
 "cells": [
  {
   "cell_type": "code",
   "execution_count": 7,
   "metadata": {
    "collapsed": false
   },
   "outputs": [
    {
     "name": "stdout",
     "output_type": "stream",
     "text": [
      "[1] 184756\n"
     ]
    }
   ],
   "source": [
    "counter <- 0\n",
    "\n",
    "recurse <- function(route,max_length) {\n",
    "    \n",
    "    countr <- length(grep(\"R\",route))\n",
    "    countd <- length(grep(\"D\",route))\n",
    "    \n",
    "    options <- character()\n",
    "    \n",
    "    if (countr<(max_length/2)) {\n",
    "        options <- c(options,\"R\")\n",
    "    }\n",
    "    if (countd<(max_length/2)) {\n",
    "        options <- c(options,\"D\")\n",
    "    }\n",
    "        \n",
    "    for (option in options){\n",
    "        \n",
    "        \n",
    "        new_route <- c(route,option)\n",
    "                \n",
    "        if (length(new_route)==max_length | max(countr,countd) == max_length/2) {\n",
    "            counter <<- counter + 1 \n",
    "        }\n",
    "        else {\n",
    "            recurse(new_route,max_length)\n",
    "        }\n",
    "        \n",
    "    }\n",
    "}\n",
    "\n",
    "\n",
    "recurse(character(),20)\n",
    "print(counter)"
   ]
  },
  {
   "cell_type": "code",
   "execution_count": null,
   "metadata": {
    "collapsed": true
   },
   "outputs": [],
   "source": [
    "\n",
    "[1] 2\n",
    "[1] 6\n",
    "[1] 20\n",
    "[1] 70\n",
    "[1] 252\n",
    "[1] 924\n",
    "[1] 3432\n",
    "[1] 12870\n",
    "[1] 48620\n",
    "[1] 184756"
   ]
  },
  {
   "cell_type": "code",
   "execution_count": 11,
   "metadata": {
    "collapsed": false
   },
   "outputs": [
    {
     "data": {
      "text/html": [
       "20"
      ],
      "text/latex": [
       "20"
      ],
      "text/markdown": [
       "20"
      ],
      "text/plain": [
       "[1] 20"
      ]
     },
     "execution_count": 11,
     "metadata": {},
     "output_type": "execute_result"
    }
   ],
   "source": [
    "max(10,20)"
   ]
  },
  {
   "cell_type": "code",
   "execution_count": null,
   "metadata": {
    "collapsed": true
   },
   "outputs": [],
   "source": []
  }
 ],
 "metadata": {
  "kernelspec": {
   "display_name": "R",
   "language": "R",
   "name": "ir"
  },
  "language_info": {
   "codemirror_mode": "r",
   "file_extension": ".r",
   "mimetype": "text/x-r-source",
   "name": "R",
   "pygments_lexer": "r",
   "version": "3.1.3"
  }
 },
 "nbformat": 4,
 "nbformat_minor": 0
}
