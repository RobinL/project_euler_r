{
 "cells": [
  {
   "cell_type": "markdown",
   "metadata": {},
   "source": [
    "A Pythagorean triplet is a set of three natural numbers, a < b < c, for which,\n",
    "\n",
    "$a^2 + b^2 = c^2$\n",
    "\n",
    "For example, 32 + 42 = 9 + 16 = 25 = 52.\n",
    "\n",
    "There exists exactly one Pythagorean triplet for which a + b + c = 1000.\n",
    "Find the product abc."
   ]
  },
  {
   "cell_type": "code",
   "execution_count": 88,
   "metadata": {
    "collapsed": true
   },
   "outputs": [],
   "source": [
    " #First generate square numbers\n",
    "square_numbers <- (1:1000)^2\n",
    "\n",
    "size <- 500\n",
    "m1 <- matrix(rep((1:size)^2,each=size), nrow=size)\n",
    "m2 <- matrix(rep(((1:size)^2),times=size), nrow=size)\n",
    "#Matrix where row index is a, column index is b and cells are a^2 + b^2\n",
    "added <- m1+m2\n",
    "\n",
    "added[!(added %in% square_numbers)] <- NA\n",
    "\n",
    "#install.packages(\"gdata\",repos=\"http://cran.uk.r-project.org\")\n",
    "library(gdata)\n",
    "lowerTriangle(added, diag=TRUE) <- NA #b>a\n",
    "\n",
    "py_triplets <- which(!(is.na(added)),arr.ind=TRUE)\n",
    "\n",
    "#find which of the py_triplets sums to 1000\n",
    "index <- which(apply(py_triplets, 1, function(x) {sum(x) + sum(x^2)^0.5})==1000)\n",
    "\n",
    "#compue answer\n",
    "prod(py_triplets[index,]) *  sum(py_triplets[index,]^2)^0.5\n"
   ]
  },
  {
   "cell_type": "code",
   "execution_count": 90,
   "metadata": {
    "collapsed": false
   },
   "outputs": [
    {
     "data": {
      "text/html": [
       "31875000"
      ],
      "text/latex": [
       "31875000"
      ],
      "text/markdown": [
       "31875000"
      ],
      "text/plain": [
       "[1] 31875000"
      ]
     },
     "execution_count": 90,
     "metadata": {},
     "output_type": "execute_result"
    }
   ],
   "source": []
  }
 ],
 "metadata": {
  "kernelspec": {
   "display_name": "R",
   "language": "R",
   "name": "ir"
  },
  "language_info": {
   "codemirror_mode": "r",
   "file_extension": ".r",
   "mimetype": "text/x-r-source",
   "name": "R",
   "pygments_lexer": "r",
   "version": "3.1.3"
  }
 },
 "nbformat": 4,
 "nbformat_minor": 0
}
