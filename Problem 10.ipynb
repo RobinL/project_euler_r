{
 "cells": [
  {
   "cell_type": "markdown",
   "metadata": {},
   "source": [
    "The sum of the primes below 10 is 2 + 3 + 5 + 7 = 17.\n",
    "\n",
    "Find the sum of all the primes below two million."
   ]
  },
  {
   "cell_type": "code",
   "execution_count": null,
   "metadata": {
    "collapsed": false
   },
   "outputs": [],
   "source": [
    "get_primes <- function(max_prime){\n",
    "   \n",
    "    possible_primes <- seq(3,max_prime,2) #Odd primes \n",
    "    i <- 1\n",
    "    repeat {\n",
    "        #If the next number to seive is more than half of the maximum prime, then we're done\n",
    "        if (possible_primes[i]>max_prime**0.5) break  \n",
    "\n",
    "        #Otherwise filter out all multiples of this number from this list \n",
    "        possible_primes <- possible_primes[(possible_primes %% possible_primes[i] != 0) | possible_primes==possible_primes[i]]\n",
    "        i <- i+1\n",
    "    }\n",
    "    c(2,possible_primes)\n",
    "}\n",
    "sum(get_primes(2e6))"
   ]
  }
 ],
 "metadata": {
  "kernelspec": {
   "display_name": "R",
   "language": "R",
   "name": "ir"
  },
  "language_info": {
   "codemirror_mode": "r",
   "file_extension": ".r",
   "mimetype": "text/x-r-source",
   "name": "R",
   "pygments_lexer": "r",
   "version": "3.1.3"
  }
 },
 "nbformat": 4,
 "nbformat_minor": 0
}
