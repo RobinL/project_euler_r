{
 "cells": [
  {
   "cell_type": "markdown",
   "metadata": {},
   "source": [
    "A palindromic number reads the same both ways. The largest palindrome made from the product of two 2-digit numbers is 9009 = 91 × 99.\n",
    "\n",
    "Find the largest palindrome made from the product of two 3-digit numbers."
   ]
  },
  {
   "cell_type": "code",
   "execution_count": 197,
   "metadata": {
    "collapsed": false
   },
   "outputs": [],
   "source": [
    "reverse_string <- function(x) {\n",
    "    rev(strsplit(x, \"\")[[1]])\n",
    "}\n",
    "\n",
    "is_palin <- function(x) {\n",
    "    s1<-strsplit(toString(x),\"\")[[1]]\n",
    "    s2<-rev(s1)\n",
    "    all(s1== s2)\n",
    "}"
   ]
  },
  {
   "cell_type": "code",
   "execution_count": null,
   "metadata": {
    "collapsed": false
   },
   "outputs": [],
   "source": [
    "get_palindrome_1 <- function() {\n",
    "    found<- FALSE\n",
    "\n",
    "    for (index_total in 0:1000) {\n",
    "\n",
    "        for (j in 0:(ceiling(index_total/2))) {\n",
    "            num1 <- 999-(index_total-j) \n",
    "            num2<- 999-j        \n",
    "            if (is_palin(num1*num2)) {\n",
    "                found <- TRUE\n",
    "\n",
    "                break\n",
    "            }\n",
    "\n",
    "        }\n",
    "        if (found) break\n",
    "\n",
    "    }\n",
    "    num1*num2\n",
    "}\n",
    "get_palindrome_1()"
   ]
  },
  {
   "cell_type": "code",
   "execution_count": null,
   "metadata": {
    "collapsed": false
   },
   "outputs": [],
   "source": [
    "#This is a second approach that uses matrix multiplication to precompute the search grid\n",
    "get_palindrome_2 <- function(){\n",
    "    found<- FALSE\n",
    "    mat <- matrix(999:900, nrow = 1)\n",
    "    search_grid <- t(mat) %*% (mat)\n",
    "\n",
    "    for (index_total in 1:100) {\n",
    "\n",
    "        for (j in 0:(ceiling((index_total-1)/2))) {\n",
    "            this_num <- search_grid[index_total-j,j+1]\n",
    "            if (is_palin(this_num)) {\n",
    "                found <- TRUE\n",
    "                break\n",
    "            }\n",
    "        }\n",
    "\n",
    "        if (found) break\n",
    "\n",
    "    }\n",
    "    this_num\n",
    "}\n",
    "    \n",
    "get_palindrome_2()"
   ]
  },
  {
   "cell_type": "code",
   "execution_count": 194,
   "metadata": {
    "collapsed": false
   },
   "outputs": [
    {
     "data": {
      "text/plain": [
       "   user  system elapsed \n",
       "   5.83    0.00    5.90 "
      ]
     },
     "execution_count": 194,
     "metadata": {},
     "output_type": "execute_result"
    }
   ],
   "source": [
    "system.time(replicate(100,get_palindrome_1()))"
   ]
  },
  {
   "cell_type": "code",
   "execution_count": 195,
   "metadata": {
    "collapsed": false
   },
   "outputs": [
    {
     "data": {
      "text/plain": [
       "   user  system elapsed \n",
       "   5.83    0.00    5.86 "
      ]
     },
     "execution_count": 195,
     "metadata": {},
     "output_type": "execute_result"
    }
   ],
   "source": [
    "system.time(replicate(100,get_palindrome_2()))"
   ]
  }
 ],
 "metadata": {
  "kernelspec": {
   "display_name": "R",
   "language": "R",
   "name": "ir"
  },
  "language_info": {
   "codemirror_mode": "r",
   "file_extension": ".r",
   "mimetype": "text/x-r-source",
   "name": "R",
   "pygments_lexer": "r",
   "version": "3.1.3"
  }
 },
 "nbformat": 4,
 "nbformat_minor": 0
}
