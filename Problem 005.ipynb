{
 "cells": [
  {
   "cell_type": "markdown",
   "metadata": {},
   "source": [
    "2520 is the smallest number that can be divided by each of the numbers from 1 to 10 without any remainder.\n",
    "\n",
    "What is the smallest positive number that is evenly divisible by all of the numbers from 1 to 20?"
   ]
  },
  {
   "cell_type": "code",
   "execution_count": null,
   "metadata": {
    "collapsed": false
   },
   "outputs": [],
   "source": [
    "get_primes <- function(max_prime){\n",
    "    num_list <- 2:max_prime\n",
    "    i<-1\n",
    "    repeat {\n",
    "        #If the next number to seive is more than half of the maximum prime, then we're done\n",
    "        if (num_list[i]>max_prime**0.5) break  \n",
    "\n",
    "        #Otherwise filter out all multiples of this number from this list \n",
    "        num_list <- num_list[(num_list %% num_list[i] != 0) | num_list==num_list[i]]\n",
    "        i <- i+1\n",
    "    }\n",
    "    num_list\n",
    "}"
   ]
  },
  {
   "cell_type": "code",
   "execution_count": null,
   "metadata": {
    "collapsed": false
   },
   "outputs": [],
   "source": [
    "get_all_prime_factors <- function(num) {\n",
    "    \n",
    "    primes <- get_primes(num)\n",
    "    factors <- integer()\n",
    "    \n",
    "    (done<-FALSE)\n",
    "    repeat {\n",
    "        \n",
    "        \n",
    "        for (p in primes) {\n",
    "\n",
    "            if (num==1) (done<-TRUE)\n",
    "\n",
    "             if (num %% p ==0) {\n",
    "                num <- num/p\n",
    "                factors <- c(factors, p)\n",
    "            } \n",
    "        }\n",
    "            \n",
    "        if (done) break\n",
    "    }\n",
    "    factors\n",
    "}"
   ]
  },
  {
   "cell_type": "code",
   "execution_count": null,
   "metadata": {
    "collapsed": false
   },
   "outputs": [],
   "source": [
    "ps<- get_primes(20) #Primes must all be multiplied together. \n",
    "\n",
    "v <- rep(1,length(ps))\n",
    "names(v) <- ps\n",
    "prod_list <-as.list(v)\n",
    "\n",
    "#8 needs 3 lots of 2.  10 needs a 2 and a 5.  Does any number need more than 3 2s?\n",
    "\n",
    "non_primes <- seq(20)[-get_primes(20)][-1]  #For each non prime, find its factors and how many are needed.  \n",
    "#Then take the maximum needed \n",
    "\n",
    "for (np in non_primes) {\n",
    "    f <- get_all_prime_factors(np)\n",
    "    \n",
    "    for (i in unique(f)) {\n",
    "        prod_list[[as.character(i)]] = max(sum(f==i),prod_list[[as.character(i)]])\n",
    "    }\n",
    "}\n",
    "\n",
    "prod(ps**unlist(prod_list))"
   ]
  }
 ],
 "metadata": {
  "kernelspec": {
   "display_name": "R",
   "language": "R",
   "name": "ir"
  },
  "language_info": {
   "codemirror_mode": "r",
   "file_extension": ".r",
   "mimetype": "text/x-r-source",
   "name": "R",
   "pygments_lexer": "r",
   "version": "3.1.3"
  }
 },
 "nbformat": 4,
 "nbformat_minor": 0
}
