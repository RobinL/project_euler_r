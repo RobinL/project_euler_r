{
 "cells": [
  {
   "cell_type": "markdown",
   "metadata": {},
   "source": [
    "Maximum path sum I"
   ]
  },
  {
   "cell_type": "code",
   "execution_count": 1,
   "metadata": {
    "collapsed": true
   },
   "outputs": [],
   "source": [
    "#We want to 'roll up' the triangle recurisvely.\n",
    "#So on the penultimate row, we can calculate the optimal route forard from the cell.\n",
    "#We then populate the penultimate row with these optimal routes by adding the best place to go next"
   ]
  },
  {
   "cell_type": "code",
   "execution_count": 88,
   "metadata": {
    "collapsed": false
   },
   "outputs": [],
   "source": [
    "# Obtain the string from the website.\n",
    "# install.packages(\"httr\",repos=\"http://cran.uk.r-project.org\")\n",
    "#install.packages(\"XML\",repos=\"http://cran.uk.r-project.org\")\n",
    "library(httr)\n",
    "library(XML)\n",
    "r <- GET('https://projecteuler.net/problem=18')\n",
    "\n",
    "parsed_html <- htmlParse(r, encoding = \"UTF-8\")\n",
    "full_string <- xpathApply(parsed_html, '//*[@id=\"content\"]/div[3]/p[5]', xmlValue)[[1]]\n",
    "full_string_split <- strsplit(full_string,\"\\\\s\")[[1]]\n",
    "full_string_split <- as.numeric(full_string_split)"
   ]
  },
  {
   "cell_type": "code",
   "execution_count": 89,
   "metadata": {
    "collapsed": false
   },
   "outputs": [],
   "source": [
    "#How many rows are there in the triangle\n",
    "num_rows <- which(sapply(1:100, function(x) {sum(1:x)==length(full_string_split)}), TRUE)"
   ]
  },
  {
   "cell_type": "code",
   "execution_count": 90,
   "metadata": {
    "collapsed": false
   },
   "outputs": [],
   "source": [
    "#Now we want a matrix to contain the data structure with zeros to indicate the triangle\n",
    "for (i in 1:num_rows) {\n",
    "    full_string_split<-append(full_string_split,rep(0,num_rows-i),(i-1)*num_rows+i)\n",
    "}\n",
    "m <- t(matrix(fs,num_rows))\n",
    "rm <- matrix(rev(m),15)  #This just means we can roll up forward rather than backwards."
   ]
  },
  {
   "cell_type": "code",
   "execution_count": 91,
   "metadata": {
    "collapsed": false
   },
   "outputs": [
    {
     "data": {
      "text/html": [
       "1074"
      ],
      "text/latex": [
       "1074"
      ],
      "text/markdown": [
       "1074"
      ],
      "text/plain": [
       "[1] 1074"
      ]
     },
     "execution_count": 91,
     "metadata": {},
     "output_type": "execute_result"
    }
   ],
   "source": [
    "#Roll it up\n",
    "for (r in (2:num_rows)) {\n",
    "    start_col <- r\n",
    "    for (c in (start_col:num_rows)) {\n",
    "        rm[r,c] <- rm[r,c] + max(rm[r-1,c],rm[r-1,c-1]) \n",
    "    }\n",
    "}\n",
    "rm[num_rows,num_rows]"
   ]
  }
 ],
 "metadata": {
  "kernelspec": {
   "display_name": "R",
   "language": "",
   "name": "r_kernel"
  },
  "language_info": {
   "codemirror_mode": "r",
   "file_extension": ".r",
   "mimetype": "text/x-r-source",
   "name": "R",
   "pygments_lexer": "r",
   "version": "3.1.1"
  }
 },
 "nbformat": 4,
 "nbformat_minor": 0
}
