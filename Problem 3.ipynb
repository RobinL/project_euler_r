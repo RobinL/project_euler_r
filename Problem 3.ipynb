{
 "cells": [
  {
   "cell_type": "markdown",
   "metadata": {},
   "source": [
    "The prime factors of 13195 are 5, 7, 13 and 29.\n",
    "\n",
    "What is the largest prime factor of the number 600851475143 ?"
   ]
  },
  {
   "cell_type": "code",
   "execution_count": null,
   "metadata": {
    "collapsed": false
   },
   "outputs": [],
   "source": [
    "#Need lsit of primes\n",
    "#Use a prime sieve\n",
    "\n",
    "get_largest_prime_factor <- function(num) {\n",
    "\n",
    "    get_primes <- function(max_prime){\n",
    "        num_list <- 2:max_prime\n",
    "        i<-1\n",
    "        repeat {\n",
    "            #If the next number to seive is more than half of the maximum prime, then we're done\n",
    "            if (num_list[i]>max_prime**0.5) break  \n",
    "\n",
    "            #Otherwise filter out all multiples of this number from this list \n",
    "            num_list <- num_list[(num_list %% num_list[i] != 0) | num_list==num_list[i]]\n",
    "            i <- i+1\n",
    "        }\n",
    "        num_list\n",
    "    }\n",
    "\n",
    "    #Get some primes\n",
    "    biggest_factor <- floor(600851475143**0.5)\n",
    "    primes <- get_primes(biggest_factor)\n",
    "\n",
    "    #The following is probably quite inefficient so comment out\n",
    "    #tail(primes[600851475143%%primes==0],1)\n",
    "\n",
    "    for (p in primes){\n",
    "\n",
    "        if (p > num) break \n",
    "        if (num %% p ==0) {\n",
    "            num = num/p\n",
    "            largest_factor <- p\n",
    "        }\n",
    "    } \n",
    "    \n",
    "    largest_factor\n",
    "\n",
    "}\n",
    "    \n",
    "get_largest_prime_factor(600851475143)"
   ]
  },
  {
   "cell_type": "code",
   "execution_count": 2,
   "metadata": {
    "collapsed": false
   },
   "outputs": [
    {
     "data": {
      "text/plain": [
       "   user  system elapsed \n",
       "   0.78    0.03    0.82 "
      ]
     },
     "execution_count": 2,
     "metadata": {},
     "output_type": "execute_result"
    }
   ],
   "source": [
    "system.time(get_largest_prime_factor(600851475143))"
   ]
  }
 ],
 "metadata": {
  "kernelspec": {
   "display_name": "R",
   "language": "R",
   "name": "ir"
  },
  "language_info": {
   "codemirror_mode": "r",
   "file_extension": ".r",
   "mimetype": "text/x-r-source",
   "name": "R",
   "pygments_lexer": "r",
   "version": "3.1.3"
  }
 },
 "nbformat": 4,
 "nbformat_minor": 0
}
