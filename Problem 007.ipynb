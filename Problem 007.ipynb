{
 "cells": [
  {
   "cell_type": "markdown",
   "metadata": {},
   "source": [
    "By listing the first six prime numbers: 2, 3, 5, 7, 11, and 13, we can see that the 6th prime is 13.\n",
    "\n",
    "What is the 10 001st prime number?"
   ]
  },
  {
   "cell_type": "code",
   "execution_count": null,
   "metadata": {
    "collapsed": true
   },
   "outputs": [],
   "source": [
    "get_primes <- function(max_prime){\n",
    "    num_list <- seq(3,max_prime,2) #Odd numbers only for efficiency \n",
    "    i <- 1\n",
    "        \n",
    "    repeat {\n",
    "        #If the next number to seive is more than the square root of of the maximum prime, then we're done\n",
    "        if (num_list[i] > max_prime^0.5) break  \n",
    "\n",
    "        #Otherwise filter out all multiples of this number from this list \n",
    "        num_list <- num_list[(num_list %% num_list[i] != 0) | num_list==num_list[i]]\n",
    "        i <- i+1\n",
    "    }\n",
    "    c(2,num_list) #Add back in 2, the first prime\n",
    "}\n"
   ]
  },
  {
   "cell_type": "code",
   "execution_count": null,
   "metadata": {
    "collapsed": false
   },
   "outputs": [],
   "source": [
    "get_primes(200000)[10001]"
   ]
  }
 ],
 "metadata": {
  "kernelspec": {
   "display_name": "R",
   "language": "R",
   "name": "ir"
  },
  "language_info": {
   "codemirror_mode": "r",
   "file_extension": ".r",
   "mimetype": "text/x-r-source",
   "name": "R",
   "pygments_lexer": "r",
   "version": "3.1.3"
  }
 },
 "nbformat": 4,
 "nbformat_minor": 0
}
