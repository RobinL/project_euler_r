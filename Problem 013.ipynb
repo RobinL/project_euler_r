{
 "cells": [
  {
   "cell_type": "code",
   "execution_count": 8,
   "metadata": {
    "collapsed": false
   },
   "outputs": [],
   "source": [
    "library(httr)\n",
    "library(XML)\n",
    "r <- GET('http://projecteuler.net/problem=13')\n",
    "\n",
    "parsed_html <- htmlParse(r, encoding = \"UTF-8\")\n",
    "full_string <- xpathApply(parsed_html, '//*[@id=\"content\"]/div[3]/div', xmlValue)[[1]]\n",
    "full_string_split <- strsplit(full_string,\"\\\\s\")[[1]]\n",
    "full_string_split <- full_string_split[-1]"
   ]
  },
  {
   "cell_type": "code",
   "execution_count": 18,
   "metadata": {
    "collapsed": false
   },
   "outputs": [
    {
     "data": {
      "text/html": [
       "\"5537376230\""
      ],
      "text/latex": [
       "\"5537376230\""
      ],
      "text/markdown": [
       "\"5537376230\""
      ],
      "text/plain": [
       "[1] \"5537376230\""
      ]
     },
     "execution_count": 18,
     "metadata": {},
     "output_type": "execute_result"
    }
   ],
   "source": [
    "s<-sum(sapply(full_string_split, function(x) {as.numeric(substring(x,1,13))}))\n",
    "substring(as.character(s),1,10)"
   ]
  }
 ],
 "metadata": {
  "kernelspec": {
   "display_name": "R",
   "language": "R",
   "name": "ir"
  },
  "language_info": {
   "codemirror_mode": "r",
   "file_extension": ".r",
   "mimetype": "text/x-r-source",
   "name": "R",
   "pygments_lexer": "r",
   "version": "3.1.3"
  }
 },
 "nbformat": 4,
 "nbformat_minor": 0
}
