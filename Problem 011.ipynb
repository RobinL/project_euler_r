{
 "cells": [
  {
   "cell_type": "code",
   "execution_count": null,
   "metadata": {
    "collapsed": false
   },
   "outputs": [],
   "source": [
    "library(httr)\n",
    "library(XML)\n",
    "r <- GET('http://projecteuler.net/problem=11')\n",
    "\n",
    "parsed_html <- htmlParse(r, encoding = \"UTF-8\")\n",
    "full_string <- xpathApply(parsed_html, '//*[@id=\"content\"]/div[3]/p[2]', xmlValue)[[1]]\n",
    "full_string_split <- strsplit(full_string,\"\\\\s\")[[1]]\n",
    "starter_matrix <- t(matrix(as.numeric(full_string_split[-1]),ncol=20))\n",
    "m <- starter_matrix"
   ]
  },
  {
   "cell_type": "code",
   "execution_count": null,
   "metadata": {
    "collapsed": false
   },
   "outputs": [],
   "source": [
    "#Translations of matrix\n",
    "function_list = list()\n",
    "function_list$a <- function(m) {cbind(m[,-1], 0)}\n",
    "function_list$b <- function(m) {rbind(m[-1,],0)}\n",
    "function_list$c <- function(m) {rbind(cbind(m[-1,-1], 0),0)}\n",
    "function_list$d <- function(m) {rbind(cbind(0,m[-1,-20]),0)}\n",
    "\n",
    "#For each translation, do it three times taking cumulative product, then get max\n",
    "maxes <- numeric()\n",
    "for (f in function_list){\n",
    "    m <- starter_matrix\n",
    "    my_product <- matrix(1,ncol=20, nrow=20)\n",
    "\n",
    "    for (i in 1:4){\n",
    "        my_product <- m * my_product\n",
    "        m<-f(m)\n",
    "    }\n",
    "    maxes<- c(maxes,max(my_product))\n",
    "}\n",
    "max(maxes)"
   ]
  }
 ],
 "metadata": {
  "kernelspec": {
   "display_name": "R",
   "language": "R",
   "name": "ir"
  },
  "language_info": {
   "codemirror_mode": "r",
   "file_extension": ".r",
   "mimetype": "text/x-r-source",
   "name": "R",
   "pygments_lexer": "r",
   "version": "3.1.3"
  }
 },
 "nbformat": 4,
 "nbformat_minor": 0
}
