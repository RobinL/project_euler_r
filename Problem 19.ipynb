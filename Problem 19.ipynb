{
 "cells": [
  {
   "cell_type": "markdown",
   "metadata": {},
   "source": [
    "You are given the following information, but you may prefer to do some research for yourself.\n",
    "\n",
    "1 Jan 1900 was a Monday.\n",
    "Thirty days has September,\n",
    "April, June and November.\n",
    "All the rest have thirty-one,\n",
    "Saving February alone,\n",
    "Which has twenty-eight, rain or shine.\n",
    "And on leap years, twenty-nine.\n",
    "A leap year occurs on any year evenly divisible by 4, but not on a century unless it is divisible by 400.\n",
    "How many Sundays fell on the first of the month during the twentieth century (1 Jan 1901 to 31 Dec 2000)?"
   ]
  },
  {
   "cell_type": "code",
   "execution_count": 12,
   "metadata": {
    "collapsed": false
   },
   "outputs": [
    {
     "data": {
      "text/html": [
       "\"Sunday 30 June 1985\""
      ],
      "text/latex": [
       "\"Sunday 30 June 1985\""
      ],
      "text/markdown": [
       "\"Sunday 30 June 1985\""
      ],
      "text/plain": [
       "[1] \"Sunday 30 June 1985\""
      ]
     },
     "execution_count": 12,
     "metadata": {},
     "output_type": "execute_result"
    }
   ],
   "source": [
    "t <- strptime(\"30/06/85\", \"%d/%m/%y\")\n",
    "strftime(t, \"%A %d %B %Y\")"
   ]
  },
  {
   "cell_type": "code",
   "execution_count": null,
   "metadata": {
    "collapsed": true
   },
   "outputs": [],
   "source": []
  }
 ],
 "metadata": {
  "kernelspec": {
   "display_name": "R",
   "language": "",
   "name": "r_kernel"
  },
  "language_info": {
   "codemirror_mode": "r",
   "file_extension": ".r",
   "mimetype": "text/x-r-source",
   "name": "R",
   "pygments_lexer": "r",
   "version": "3.1.1"
  }
 },
 "nbformat": 4,
 "nbformat_minor": 0
}
