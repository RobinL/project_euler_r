{
 "cells": [
  {
   "cell_type": "code",
   "execution_count": 11,
   "metadata": {
    "collapsed": true
   },
   "outputs": [],
   "source": [
    "get_primes <- function(max_prime){\n",
    "    num_list <- 2:max_prime\n",
    "    i <- 1\n",
    "    repeat {\n",
    "        #If the next number to seive is more than half of the maximum prime, then we're done\n",
    "        if (num_list[i]>max_prime**0.5) break  \n",
    "\n",
    "        #Otherwise filter out all multiples of this number from this list \n",
    "        num_list <- num_list[(num_list %% num_list[i] != 0) | num_list==num_list[i]]\n",
    "        i <- i+1\n",
    "    }\n",
    "    num_list\n",
    "}\n"
   ]
  },
  {
   "cell_type": "code",
   "execution_count": 9,
   "metadata": {
    "collapsed": false
   },
   "outputs": [
    {
     "data": {
      "text/html": [
       "<ol class=list-inline>\n",
       "\t<li>2</li>\n",
       "\t<li>5</li>\n",
       "</ol>\n"
      ],
      "text/latex": [
       "\\begin{enumerate*}\n",
       "\\item 2\n",
       "\\item 5\n",
       "\\end{enumerate*}\n"
      ],
      "text/markdown": [
       "1. 2\n",
       "2. 5\n",
       "\n",
       "\n"
      ],
      "text/plain": [
       "[1] 2 5"
      ]
     },
     "execution_count": 9,
     "metadata": {},
     "output_type": "execute_result"
    }
   ],
   "source": [
    "get_prime_factors <- function(num) {\n",
    "    \n",
    "    primes <- get_primes(num)\n",
    "    factors <- integer()\n",
    "    \n",
    "    for (p in primes) {\n",
    "        \n",
    "        if (p>num) break\n",
    "            \n",
    "         if (num %% p ==0) {\n",
    "            num <- num/p\n",
    "            factors <- c(factors, p)\n",
    "        } \n",
    "    }\n",
    "    factors\n",
    "}\n",
    "\n",
    "get_prime_factors(100)"
   ]
  },
  {
   "cell_type": "code",
   "execution_count": 12,
   "metadata": {
    "collapsed": false
   },
   "outputs": [
    {
     "data": {
      "text/html": [
       "<ol class=list-inline>\n",
       "\t<li>1</li>\n",
       "\t<li>2</li>\n",
       "\t<li>4</li>\n",
       "\t<li>5</li>\n",
       "\t<li>10</li>\n",
       "\t<li>20</li>\n",
       "\t<li>25</li>\n",
       "\t<li>50</li>\n",
       "</ol>\n"
      ],
      "text/latex": [
       "\\begin{enumerate*}\n",
       "\\item 1\n",
       "\\item 2\n",
       "\\item 4\n",
       "\\item 5\n",
       "\\item 10\n",
       "\\item 20\n",
       "\\item 25\n",
       "\\item 50\n",
       "\\end{enumerate*}\n"
      ],
      "text/markdown": [
       "1. 1\n",
       "2. 2\n",
       "3. 4\n",
       "4. 5\n",
       "5. 10\n",
       "6. 20\n",
       "7. 25\n",
       "8. 50\n",
       "\n",
       "\n"
      ],
      "text/plain": [
       "[1]  1  2  4  5 10 20 25 50"
      ]
     },
     "execution_count": 12,
     "metadata": {},
     "output_type": "execute_result"
    }
   ],
   "source": [
    "get_factors <- function(num){\n",
    "\n",
    "    p_factors <- get_prime_factors(num)\n",
    "    factors <- p_factors\n",
    "    \n",
    "    recurse <- function(num) {\n",
    "        \n",
    "        for (p in p_factors) {\n",
    "            if (num %% p == 0 & !((num/p) %in% factors)) {\n",
    "                factors <<- c(factors,num/p)\n",
    "                recurse(num/p)\n",
    "            }\n",
    "        }   \n",
    "    }\n",
    "    \n",
    "    recurse(num)\n",
    "    sort(c(1,factors))\n",
    "}\n",
    "\n",
    "get_factors(100)"
   ]
  },
  {
   "cell_type": "code",
   "execution_count": null,
   "metadata": {
    "collapsed": true
   },
   "outputs": [],
   "source": []
  }
 ],
 "metadata": {
  "kernelspec": {
   "display_name": "R",
   "language": "R",
   "name": "ir"
  },
  "language_info": {
   "codemirror_mode": "r",
   "file_extension": ".r",
   "mimetype": "text/x-r-source",
   "name": "R",
   "pygments_lexer": "r",
   "version": "3.1.3"
  }
 },
 "nbformat": 4,
 "nbformat_minor": 0
}
